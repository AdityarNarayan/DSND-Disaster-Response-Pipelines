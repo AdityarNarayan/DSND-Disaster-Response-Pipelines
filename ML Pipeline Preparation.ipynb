{
 "cells": [
  {
   "cell_type": "markdown",
   "metadata": {},
   "source": [
    "# ML Pipeline Preparation\n",
    "Follow the instructions below to help you create your ML pipeline.\n",
    "### 1. Import libraries and load data from database.\n",
    "- Import Python libraries\n",
    "- Load dataset from database with [`read_sql_table`](https://pandas.pydata.org/pandas-docs/stable/generated/pandas.read_sql_table.html)\n",
    "- Define feature and target variables X and Y"
   ]
  },
  {
   "cell_type": "code",
   "execution_count": null,
   "metadata": {},
   "outputs": [],
   "source": [
    "# import libraries\n",
    "import pandas as pd\n",
    "import numpy as np\n",
    "from sqlalchemy import create_engine\n",
    "import re\n",
    "import nltk\n",
    "from nltk.tokenize import word_tokenize,sent_tokenize\n",
    "from nltk.stem import WordNetLemmatizer\n",
    "from nltk.corpus import stopwords\n",
    "from sklearn.metrics import confusion_matrix\n",
    "from sklearn.model_selection import train_test_split\n",
    "from sklearn.tree import DecisionTreeClassifier\n",
    "from sklearn.ensemble import RandomForestClassifier,AdaBoostClassifier\n",
    "from sklearn.naive_bayes import MultinomialNB\n",
    "from sklearn.feature_extraction.text import CountVectorizer, TfidfTransformer, TfidfVectorizer\n",
    "from sklearn.multioutput import MultiOutputClassifier\n",
    "from sklearn.pipeline import Pipeline\n",
    "from sklearn.metrics import precision_recall_fscore_support,classification_report\n",
    "from sklearn.metrics import label_ranking_average_precision_score\n",
    "from sklearn.model_selection  import GridSearchCV\n",
    "nltk.download(['punkt','stopwords','wordnet'])"
   ]
  },
  {
   "cell_type": "code",
   "execution_count": null,
   "metadata": {
    "collapsed": true
   },
   "outputs": [],
   "source": [
    "# load data from database\n",
    "engine = create_engine('sqlite:///message_all.db')\n",
    "df=pd.read_sql('SELECT * from message_all', engine)\n",
    "X = df['message']\n",
    "# result is multiple classifty.\n",
    "y = df.iloc[:,4:]"
   ]
  },
  {
   "cell_type": "code",
   "execution_count": null,
   "metadata": {},
   "outputs": [],
   "source": [
    "def load_data(db_path='workspace/data/DisasterResponse.db',tablename='disastertab'):\n",
    "    \"\"\"\n",
    "    Function: load data from database and return X and y.\n",
    "    Args:\n",
    "      db_path(str): database file name included path\n",
    "      tablename:(str): table name in the database file.\n",
    "    Return:\n",
    "      X(pd.DataFrame): messages for X\n",
    "      y(pd.DataFrame): labels part in messages for y\n",
    "    \"\"\"\n",
    "    # load data from database\n",
    "    engine = create_engine('sqlite:///'+db_path)\n",
    "    df=pd.read_sql('SELECT * from '+tablename, engine)\n",
    "    X = df['message']\n",
    "    # result is multiple classifty.\n",
    "    y = df.iloc[:,4:]\n",
    "    return X, y"
   ]
  },
  {
   "cell_type": "code",
   "execution_count": null,
   "metadata": {},
   "outputs": [],
   "source": [
    "X,y=load_data()"
   ]
  },
  {
   "cell_type": "code",
   "execution_count": null,
   "metadata": {},
   "outputs": [],
   "source": [
    "print(X[:5].values.tolist())\n",
    "#need sent_tokenize to parse X."
   ]
  },
  {
   "cell_type": "markdown",
   "metadata": {},
   "source": [
    "### 2. Write a tokenization function to process your text data"
   ]
  },
  {
   "cell_type": "code",
   "execution_count": null,
   "metadata": {
    "collapsed": true
   },
   "outputs": [],
   "source": [
    "def tokenize(text):\n",
    "    \"\"\"\n",
    "    Function: tokenize the text\n",
    "    Args:  source string\n",
    "    Return:\n",
    "    clean_tokens(str list): clean string list\n",
    "    \n",
    "    \"\"\"\n",
    "    #normalize text\n",
    "    text = re.sub(r'[^a-zA-Z0-9]',' ',text.lower())\n",
    "    \n",
    "    #token messages\n",
    "    words = word_tokenize(text)\n",
    "    tokens = [w for w in words if w not in stopwords.words(\"english\")]\n",
    "    \n",
    "    #sterm and lemmatizer\n",
    "    lemmatizer = WordNetLemmatizer()\n",
    "    clean_tokens = []\n",
    "    for tok in tokens:\n",
    "        clean_tok = lemmatizer.lemmatize(tok).strip()\n",
    "        clean_tokens.append(clean_tok)\n",
    "\n",
    "    return clean_tokens"
   ]
  },
  {
   "cell_type": "markdown",
   "metadata": {},
   "source": [
    "### 3. Build a machine learning pipeline\n",
    "- You'll find the [MultiOutputClassifier](http://scikit-learn.org/stable/modules/generated/sklearn.multioutput.MultiOutputClassifier.html) helpful for predicting multiple target variables."
   ]
  },
  {
   "cell_type": "code",
   "execution_count": null,
   "metadata": {
    "collapsed": true
   },
   "outputs": [],
   "source": [
    "pipeline = Pipeline([\n",
    "    ('vect',TfidfVectorizer(tokenizer=tokenize)),\n",
    "    ('clf', MultiOutputClassifier(RandomForestClassifier(n_estimators=200)))\n",
    "])"
   ]
  },
  {
   "cell_type": "markdown",
   "metadata": {},
   "source": [
    "### 4. Train pipeline\n",
    "- Split data into train and test sets\n",
    "- Train pipeline"
   ]
  },
  {
   "cell_type": "code",
   "execution_count": null,
   "metadata": {},
   "outputs": [],
   "source": [
    "X_train,X_test,y_train,y_test=train_test_split(X,y,test_size=0.2, random_state=42)\n",
    "pipeline.fit(X_train,y_train)"
   ]
  },
  {
   "cell_type": "markdown",
   "metadata": {},
   "source": [
    "### 5. Test your model\n",
    "Report the f1 score, precision and recall for each output category of the dataset. You can do this by iterating through the columns and calling sklearn's `classification_report` on each."
   ]
  },
  {
   "cell_type": "code",
   "execution_count": null,
   "metadata": {
    "collapsed": true
   },
   "outputs": [],
   "source": [
    "\n",
    "\n",
    "def display_results(y_test, y_pred):\n",
    "    labels = np.unique(y_pred)\n",
    "    #confusion_mat = confusion_matrix(y_test, y_pred, labels=labels)\n",
    "    #accuracy = accuracy_score(y_test,y_pred)\n",
    "    report=classification_report(y_test, y_pred,target_names=y_test.columns.values)\n",
    "    #label_ranking_average_precision =[0,1] , the higher ,the better.\n",
    "    avg_precision = label_ranking_average_precision_score(y_test, y_pred)\n",
    "\n",
    "    print('label ranking average precision: {}'.format(avg_precision))\n",
    "    print('The metrics for each output category')\n",
    "    print(report)\n",
    "    "
   ]
  },
  {
   "cell_type": "code",
   "execution_count": null,
   "metadata": {
    "collapsed": true
   },
   "outputs": [],
   "source": [
    "y_pred=pipeline.predict(X_test)"
   ]
  },
  {
   "cell_type": "code",
   "execution_count": null,
   "metadata": {
    "collapsed": true
   },
   "outputs": [],
   "source": [
    "print(y_pred.shape)\n",
    "print(y_test.shape)\n",
    "tt=pd.DataFrame(y_pred,columns=y_test.columns.values)\n",
    "tt.max()\n",
    "#tt.loc[tt['related']==2,'related'] = 1\n",
    "#y_pred=tt.values"
   ]
  },
  {
   "cell_type": "code",
   "execution_count": null,
   "metadata": {},
   "outputs": [],
   "source": [
    "(y.related==2).sum()"
   ]
  },
  {
   "cell_type": "code",
   "execution_count": null,
   "metadata": {},
   "outputs": [],
   "source": [
    "display_results(y_test, y_pred)"
   ]
  },
  {
   "cell_type": "code",
   "execution_count": null,
   "metadata": {},
   "outputs": [],
   "source": [
    "pipeline.get_params()"
   ]
  },
  {
   "cell_type": "markdown",
   "metadata": {},
   "source": [
    "### 6. Improve your model\n",
    "Use grid search to find better parameters. "
   ]
  },
  {
   "cell_type": "code",
   "execution_count": null,
   "metadata": {},
   "outputs": [],
   "source": [
    "parameters = {\n",
    "    'clf__estimator__criterion':['gini', 'entropy'],\n",
    "    'vect__smooth_idf': [True,False],\n",
    "}\n",
    "\n",
    "# create grid search object\n",
    "cv = GridSearchCV(pipeline, param_grid=parameters,n_jobs=-1)"
   ]
  },
  {
   "cell_type": "markdown",
   "metadata": {},
   "source": [
    "parameters_bak = {\n",
    "    'clf__estimator__n_estimators': [200,100],\n",
    "    'clf__estimator__max_depth': [3,15],\n",
    "    'clf__estimator__min_samples_leaf': [1,8],\n",
    "    'vect__smooth_idf': [True,False],\n",
    "    'vect__sublinear_tf':[True,False]\n",
    "}"
   ]
  },
  {
   "cell_type": "code",
   "execution_count": null,
   "metadata": {},
   "outputs": [],
   "source": [
    "cv.fit(X_train, y_train)\n",
    "y_pred = cv.predict(X_test)   "
   ]
  },
  {
   "cell_type": "markdown",
   "metadata": {},
   "source": [
    "### 7. Test your model\n",
    "Show the accuracy, precision, and recall of the tuned model.  \n",
    "\n",
    "Since this project focuses on code quality, process, and  pipelines, there is no minimum performance metric needed to pass. However, make sure to fine tune your models for accuracy, precision and recall to make your project stand out - especially for your portfolio!"
   ]
  },
  {
   "cell_type": "code",
   "execution_count": null,
   "metadata": {},
   "outputs": [],
   "source": [
    "display_results(y_test, y_pred)"
   ]
  },
  {
   "cell_type": "markdown",
   "metadata": {},
   "source": [
    "### 8. Try improving your model further. Here are a few ideas:\n",
    "* try other machine learning algorithms\n",
    "* add other features besides the TF-IDF"
   ]
  },
  {
   "cell_type": "markdown",
   "metadata": {
    "collapsed": true
   },
   "source": [
    "pipeline = Pipeline([\n",
    "    ('vect',TfidfVectorizer(tokenizer=tokenize)),\n",
    "    ('clf', AdaBoostClassifier(base_estimator = DecisionTreeClassifier(max_depth=2), n_estimators = 4))\n",
    "])"
   ]
  },
  {
   "cell_type": "code",
   "execution_count": null,
   "metadata": {
    "collapsed": true
   },
   "outputs": [],
   "source": [
    "pipeline = Pipeline([\n",
    "    ('vect',TfidfVectorizer(tokenizer=tokenize)),\n",
    "    ('clf', AdaBoostClassifier(base_estimator =MultinomialNB()))\n",
    "])"
   ]
  },
  {
   "cell_type": "code",
   "execution_count": null,
   "metadata": {},
   "outputs": [],
   "source": [
    "pipeline.get_params()"
   ]
  },
  {
   "cell_type": "code",
   "execution_count": null,
   "metadata": {
    "collapsed": true
   },
   "outputs": [],
   "source": [
    "parameters = {\n",
    "    'vect__smooth_idf': [True,False],\n",
    "}\n",
    "# create grid search object\n",
    "cv = GridSearchCV(pipeline, param_grid=parameters,n_jobs=-1)\n",
    "cv.fit(X_train, y_train)\n",
    "y_pred = cv.predict(X_test)   \n",
    "display_results(y_test, y_pred)"
   ]
  },
  {
   "cell_type": "markdown",
   "metadata": {},
   "source": [
    "### 9. Export your model as a pickle file"
   ]
  },
  {
   "cell_type": "code",
   "execution_count": null,
   "metadata": {
    "collapsed": true
   },
   "outputs": [],
   "source": [
    "with open('classifer.pkl', 'wb') as f:\n",
    "    pickle.dump(cv, f)\n"
   ]
  },
  {
   "cell_type": "code",
   "execution_count": null,
   "metadata": {
    "collapsed": true
   },
   "outputs": [],
   "source": [
    "    parameters = {\n",
    "        'clf__estimator__criterion':['gini', 'entropy']\n",
    "        'vect__smooth_idf': [True,False],\n",
    "    }"
   ]
  },
  {
   "cell_type": "markdown",
   "metadata": {},
   "source": [
    "### 10. Use this notebook to complete `train.py`\n",
    "Use the template file attached in the Resources folder to write a script that runs the steps above to create a database and export a model based on a new dataset specified by the user."
   ]
  },
  {
   "cell_type": "code",
   "execution_count": null,
   "metadata": {},
   "outputs": [
    {
     "name": "stdout",
     "output_type": "stream",
     "text": [
      "[nltk_data] Downloading package punkt to\n",
      "[nltk_data]     C:\\Users\\binwan\\AppData\\Roaming\\nltk_data...\n",
      "[nltk_data]   Package punkt is already up-to-date!\n",
      "[nltk_data] Downloading package stopwords to\n",
      "[nltk_data]     C:\\Users\\binwan\\AppData\\Roaming\\nltk_data...\n",
      "[nltk_data]   Package stopwords is already up-to-date!\n",
      "[nltk_data] Downloading package wordnet to\n",
      "[nltk_data]     C:\\Users\\binwan\\AppData\\Roaming\\nltk_data...\n",
      "[nltk_data]   Package wordnet is already up-to-date!\n"
     ]
    }
   ],
   "source": [
    "import pandas as pd\n",
    "import numpy as np\n",
    "from sqlalchemy import create_engine\n",
    "import sys\n",
    "import re\n",
    "import nltk\n",
    "from nltk.tokenize import word_tokenize,sent_tokenize\n",
    "from nltk.stem import WordNetLemmatizer\n",
    "from nltk.corpus import stopwords\n",
    "from sklearn.metrics import confusion_matrix\n",
    "from sklearn.model_selection import train_test_split\n",
    "from sklearn.tree import DecisionTreeClassifier\n",
    "from sklearn.ensemble import RandomForestClassifier,AdaBoostClassifier\n",
    "from sklearn.naive_bayes import MultinomialNB\n",
    "from sklearn.feature_extraction.text import CountVectorizer, TfidfTransformer, TfidfVectorizer\n",
    "from sklearn.multioutput import MultiOutputClassifier\n",
    "from sklearn.pipeline import Pipeline\n",
    "from sklearn.metrics import label_ranking_average_precision_score,classification_report\n",
    "from sklearn.model_selection  import GridSearchCV\n",
    "nltk.download(['punkt','stopwords','wordnet'])\n",
    "\n",
    "def load_data(db_path='workspace/data/DisasterResponse.db',tablename='disastertab'):\n",
    "    \"\"\"\n",
    "    Function: load data from database and return X and y.\n",
    "    Args:\n",
    "      db_path(str): database file name included path\n",
    "      tablename:(str): table name in the database file.\n",
    "    Return:\n",
    "      X(pd.DataFrame): messages for X\n",
    "      y(pd.DataFrame): labels part in messages for y\n",
    "    \"\"\"\n",
    "    # load data from database\n",
    "    engine = create_engine('sqlite:///'+db_path)\n",
    "    df=pd.read_sql('SELECT * from '+tablename, engine)\n",
    "    X = df['message']\n",
    "    # result is multiple classifty.\n",
    "    y = df.iloc[:,4:]\n",
    "    return X, y\n",
    "\n",
    "def tokenize(text):\n",
    "    \"\"\"\n",
    "    Function: tokenize the text\n",
    "    Args:  source string\n",
    "    Return:\n",
    "    clean_tokens(str list): clean string list\n",
    "    \n",
    "    \"\"\"\n",
    "    #normalize text\n",
    "    text = re.sub(r'[^a-zA-Z0-9]',' ',text.lower())\n",
    "    \n",
    "    #token messages\n",
    "    words = word_tokenize(text)\n",
    "    tokens = [w for w in words if w not in stopwords.words(\"english\")]\n",
    "    \n",
    "    #sterm and lemmatizer\n",
    "    lemmatizer = WordNetLemmatizer()\n",
    "    clean_tokens = []\n",
    "    for tok in tokens:\n",
    "        clean_tok = lemmatizer.lemmatize(tok).strip()\n",
    "        clean_tokens.append(clean_tok)\n",
    "\n",
    "    return clean_tokens\n",
    "\n",
    "def build_model(): \n",
    "    \"\"\"\n",
    "    Function: build model that consist of pipeline\n",
    "    Args:\n",
    "      N/A\n",
    "    Return\n",
    "      cv(model): Grid Search model \n",
    "    \"\"\"\n",
    "    \n",
    "    pipeline = Pipeline([\n",
    "        ('vect',TfidfVectorizer(stop_words='english',tokenizer=tokenize)),\n",
    "        ('clf', MultiOutputClassifier(RandomForestClassifier(n_estimators=100,random_state=20)))\n",
    "    ]) \n",
    "    parameters = {\n",
    "        'clf__estimator__criterion':['entropy']\n",
    "    }\n",
    "    \n",
    "    # create grid search object\n",
    "    cv = GridSearchCV(pipeline, param_grid=parameters,n_jobs=-1)\n",
    "    return cv\n",
    "\n",
    "def evaluate_model(y_test, y_pred):\n",
    "    report=classification_report(y_test, y_pred,target_names=y_test.columns.values)\n",
    "    avg_precision = label_ranking_average_precision_score(y_test, y_pred)\n",
    "    print('label ranking average precision: {}'.format(avg_precision))\n",
    "    print('The metrics for each output category')\n",
    "    print(report)\n",
    "def save_model(cv):\n",
    "    \"\"\"\n",
    "    Function: save model as pickle file.\n",
    "    Args:\n",
    "      cv:target model\n",
    "    Return:\n",
    "      N/A\n",
    "    \"\"\"\n",
    "    with open('classifer.pkl', 'wb') as f:\n",
    "        pickle.dump(cv, f)    \n",
    "def main(): \n",
    "    print(\"Load data\")\n",
    "    X,y=load_data()\n",
    "    X_train,X_test,y_train,y_test=train_test_split(X,y,test_size=0.2, random_state=42)\n",
    "    print(\"Build model\")\n",
    "    model=build_model()\n",
    "    print(\"Train model\")\n",
    "    model.fit(X_train,y_train)\n",
    "    y_pred=model.predict(X_test)\n",
    "    print(\"Evaluation model\")\n",
    "    evaluate_model(y_test, y_pred)\n",
    "    print(\"Save model\")\n",
    "    save_model(model)\n"
   ]
  },
  {
   "cell_type": "code",
   "execution_count": null,
   "metadata": {},
   "outputs": [
    {
     "name": "stdout",
     "output_type": "stream",
     "text": [
      "Load data\n",
      "Build model\n",
      "Train model\n"
     ]
    }
   ],
   "source": [
    "if __name__ == \"__main__\":\n",
    "    main()"
   ]
  },
  {
   "cell_type": "code",
   "execution_count": null,
   "metadata": {
    "collapsed": true
   },
   "outputs": [],
   "source": [
    "def build_model2(): \n",
    "    \"\"\"\n",
    "    Function: build model that consist of pipeline\n",
    "    Args:\n",
    "      N/A\n",
    "    Return\n",
    "      cv(model): Grid Search model \n",
    "    \"\"\"\n",
    "    \n",
    "    pipeline = Pipeline([\n",
    "        ('vect',TfidfVectorizer(tokenizer=tokenize)),\n",
    "        ('clf', AdaBoostClassifier(base_estimator =MultinomialNB()))\n",
    "    ]) \n",
    "    parameters = {\n",
    "        'clf__alpha':[1.0]\n",
    "        #'vect__smooth_idf':[True] \n",
    "    }\n",
    "    \n",
    "    # create grid search object\n",
    "    cv = GridSearchCV(pipeline, param_grid=parameters,n_jobs=-1)\n",
    "    return cv\n",
    "def main2(): \n",
    "    print(\"Load data\")\n",
    "    X,y=load_data()\n",
    "    X_train,X_test,y_train,y_test=train_test_split(X,y,test_size=0.2, random_state=42)\n",
    "    print(\"Build model\")\n",
    "    model=build_model2()\n",
    "    print(\"Train model\")\n",
    "    model.fit(X_train,y_train)\n",
    "    y_pred=model.predict(X_test)\n",
    "    print(\"Evaluation model\")\n",
    "    evaluate_model(y_test, y_pred)\n",
    "    print(\"Save model\")\n",
    "    save_model(model)"
   ]
  },
  {
   "cell_type": "code",
   "execution_count": null,
   "metadata": {
    "collapsed": true
   },
   "outputs": [],
   "source": [
    "main2()"
   ]
  },
  {
   "cell_type": "code",
   "execution_count": null,
   "metadata": {
    "collapsed": true
   },
   "outputs": [],
   "source": []
  },
  {
   "cell_type": "code",
   "execution_count": null,
   "metadata": {
    "collapsed": true
   },
   "outputs": [],
   "source": []
  }
 ],
 "metadata": {
  "kernelspec": {
   "display_name": "Python [default]",
   "language": "python",
   "name": "python3"
  },
  "language_info": {
   "codemirror_mode": {
    "name": "ipython",
    "version": 3
   },
   "file_extension": ".py",
   "mimetype": "text/x-python",
   "name": "python",
   "nbconvert_exporter": "python",
   "pygments_lexer": "ipython3",
   "version": "3.5.4"
  }
 },
 "nbformat": 4,
 "nbformat_minor": 2
}
